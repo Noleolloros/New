{
 "cells": [
  {
   "cell_type": "markdown",
   "id": "5370422c-5480-431e-ae46-3a09f50bb5e6",
   "metadata": {},
   "source": [
    "# Data Science Tools and Ecosystem"
   ]
  },
  {
   "cell_type": "markdown",
   "id": "a0e8864b-6a3b-4b7c-8c03-2670613ac6f8",
   "metadata": {},
   "source": [
    "In this notebook, Data Science Tools and Ecosystem are summarized"
   ]
  },
  {
   "cell_type": "markdown",
   "id": "17368fc8-a5d0-468d-9e79-e68145f7c8c7",
   "metadata": {},
   "source": [
    "**Objectives:**"
   ]
  },
  {
   "cell_type": "markdown",
   "id": "9261dc71-b49c-48d4-b3ff-d9e4c3ab7e6a",
   "metadata": {},
   "source": [
    "## Some of the popular languages that Data Scientists use are:"
   ]
  },
  {
   "cell_type": "markdown",
   "id": "7ac9c8b7-bbfa-4752-8225-48d29abc330e",
   "metadata": {},
   "source": [
    "-Python"
   ]
  },
  {
   "cell_type": "markdown",
   "id": "b6a77f5b-2fec-42b2-b24c-07371d9740b4",
   "metadata": {},
   "source": [
    "-R"
   ]
  },
  {
   "cell_type": "markdown",
   "id": "13e01237-c540-4474-b629-9762469b5f4d",
   "metadata": {},
   "source": [
    "-SQL"
   ]
  },
  {
   "cell_type": "markdown",
   "id": "5dd7d655-910c-4ea9-abba-a9ae78716791",
   "metadata": {},
   "source": [
    "## Some of the commonly used libraries used by Data Scientists include:"
   ]
  },
  {
   "cell_type": "markdown",
   "id": "32c00123-d13b-455f-8be6-1b732bb75769",
   "metadata": {},
   "source": [
    "1.-NumPy"
   ]
  },
  {
   "cell_type": "markdown",
   "id": "784bcfb4-6d9f-430f-9af2-31461fb5f21e",
   "metadata": {},
   "source": [
    "2.-pandas"
   ]
  },
  {
   "cell_type": "markdown",
   "id": "7f1ffd83-d6ad-43e7-94c3-2727cb8d4cf8",
   "metadata": {},
   "source": [
    "3.-Matplotlib"
   ]
  },
  {
   "cell_type": "markdown",
   "id": "44e7d264-9003-4d68-aad5-22b6f213da89",
   "metadata": {},
   "source": [
    "| Data Science Tools | \n",
    "|:------------------:|\n",
    "|      Jupyter       | \n",
    "|      RStudio       | \n",
    "|      Spyder        |\n"
   ]
  },
  {
   "cell_type": "markdown",
   "id": "911f30fe-3abc-44b5-b70a-c2cfcb5799f9",
   "metadata": {},
   "source": [
    "### Below are a few examples of evaluating arithmetic expressions in Python"
   ]
  },
  {
   "cell_type": "code",
   "execution_count": 3,
   "id": "e38ebeb7-c7c2-4578-9bf2-b74ad9554966",
   "metadata": {},
   "outputs": [
    {
     "name": "stdout",
     "output_type": "stream",
     "text": [
      "3\n"
     ]
    }
   ],
   "source": [
    "a = 2\n",
    "b = 1\n",
    "print(a+b)"
   ]
  },
  {
   "cell_type": "markdown",
   "id": "505a2c1c-c193-46ca-a8c2-ab466c508a76",
   "metadata": {},
   "source": [
    "### This a simple arithmetic expression to mutiply then add integers"
   ]
  },
  {
   "cell_type": "code",
   "execution_count": 4,
   "id": "1733905c-edc0-4d6e-8fdf-155fbe43a159",
   "metadata": {},
   "outputs": [
    {
     "data": {
      "text/plain": [
       "17"
      ]
     },
     "execution_count": 4,
     "metadata": {},
     "output_type": "execute_result"
    }
   ],
   "source": [
    "(3*4)+5"
   ]
  },
  {
   "cell_type": "markdown",
   "id": "3b57a539-6190-4793-a885-f81aa900cced",
   "metadata": {},
   "source": [
    "### This will convert 200 minutes to hours by diving by 60"
   ]
  },
  {
   "cell_type": "code",
   "execution_count": 6,
   "id": "cf1119bf-1510-4917-8211-fec366aea328",
   "metadata": {},
   "outputs": [
    {
     "data": {
      "text/plain": [
       "3.3333333333333335"
      ]
     },
     "execution_count": 6,
     "metadata": {},
     "output_type": "execute_result"
    }
   ],
   "source": [
    "float(200/60)"
   ]
  },
  {
   "cell_type": "code",
   "execution_count": 7,
   "id": "4e26e25c-33c6-4b8c-b273-5acb64b6c827",
   "metadata": {},
   "outputs": [
    {
     "data": {
      "text/plain": [
       "3"
      ]
     },
     "execution_count": 7,
     "metadata": {},
     "output_type": "execute_result"
    }
   ],
   "source": [
    "int(200/60)"
   ]
  },
  {
   "cell_type": "markdown",
   "id": "78f2e46e-8b7d-45cd-961c-0eaf603b8379",
   "metadata": {},
   "source": [
    "## Autor \n",
    "Carlos Muñoz"
   ]
  },
  {
   "cell_type": "code",
   "execution_count": null,
   "id": "3d2fc605-986b-41f6-b87b-49ecc9d7438a",
   "metadata": {},
   "outputs": [],
   "source": []
  }
 ],
 "metadata": {
  "kernelspec": {
   "display_name": "Python 3 (ipykernel)",
   "language": "python",
   "name": "python3"
  },
  "language_info": {
   "codemirror_mode": {
    "name": "ipython",
    "version": 3
   },
   "file_extension": ".py",
   "mimetype": "text/x-python",
   "name": "python",
   "nbconvert_exporter": "python",
   "pygments_lexer": "ipython3",
   "version": "3.12.0"
  }
 },
 "nbformat": 4,
 "nbformat_minor": 5
}
